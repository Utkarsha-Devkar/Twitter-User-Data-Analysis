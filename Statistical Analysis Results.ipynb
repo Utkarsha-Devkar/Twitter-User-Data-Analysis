{
 "cells": [
  {
   "cell_type": "code",
   "execution_count": 8,
   "metadata": {
    "collapsed": false
   },
   "outputs": [
    {
     "name": "stdout",
     "output_type": "stream",
     "text": [
      "41691\n"
     ]
    },
    {
     "data": {
      "text/html": [
       "<div>\n",
       "<table border=\"1\" class=\"dataframe\">\n",
       "  <thead>\n",
       "    <tr style=\"text-align: right;\">\n",
       "      <th></th>\n",
       "      <th>user_id</th>\n",
       "      <th>created_at</th>\n",
       "      <th>tweet_created_at</th>\n",
       "      <th>statuses_count</th>\n",
       "      <th>followers_count</th>\n",
       "      <th>friends_count</th>\n",
       "      <th>favourites_count</th>\n",
       "      <th>listed_count</th>\n",
       "      <th>retweet_count</th>\n",
       "      <th>num_days</th>\n",
       "      <th>tweet_freq</th>\n",
       "    </tr>\n",
       "  </thead>\n",
       "  <tbody>\n",
       "    <tr>\n",
       "      <th>0</th>\n",
       "      <td>819360266538389504</td>\n",
       "      <td>2017-01-12 01:48:05</td>\n",
       "      <td>2017-04-30 19:13:44</td>\n",
       "      <td>3688</td>\n",
       "      <td>27</td>\n",
       "      <td>25</td>\n",
       "      <td>16666</td>\n",
       "      <td>0</td>\n",
       "      <td>0</td>\n",
       "      <td>108.726146</td>\n",
       "      <td>33.920084</td>\n",
       "    </tr>\n",
       "    <tr>\n",
       "      <th>1</th>\n",
       "      <td>278160713</td>\n",
       "      <td>2011-04-06 18:43:00</td>\n",
       "      <td>2017-04-30 19:13:44</td>\n",
       "      <td>1823</td>\n",
       "      <td>112</td>\n",
       "      <td>553</td>\n",
       "      <td>680</td>\n",
       "      <td>0</td>\n",
       "      <td>0</td>\n",
       "      <td>2216.021343</td>\n",
       "      <td>0.822646</td>\n",
       "    </tr>\n",
       "    <tr>\n",
       "      <th>2</th>\n",
       "      <td>578844570</td>\n",
       "      <td>2012-05-13 08:09:12</td>\n",
       "      <td>2017-04-30 19:13:44</td>\n",
       "      <td>1810</td>\n",
       "      <td>155</td>\n",
       "      <td>89</td>\n",
       "      <td>922</td>\n",
       "      <td>5</td>\n",
       "      <td>0</td>\n",
       "      <td>1813.461481</td>\n",
       "      <td>0.998091</td>\n",
       "    </tr>\n",
       "    <tr>\n",
       "      <th>3</th>\n",
       "      <td>334868465</td>\n",
       "      <td>2011-07-13 19:58:52</td>\n",
       "      <td>2017-04-30 19:13:44</td>\n",
       "      <td>56034</td>\n",
       "      <td>968</td>\n",
       "      <td>309</td>\n",
       "      <td>53342</td>\n",
       "      <td>44</td>\n",
       "      <td>0</td>\n",
       "      <td>2117.968657</td>\n",
       "      <td>26.456482</td>\n",
       "    </tr>\n",
       "    <tr>\n",
       "      <th>4</th>\n",
       "      <td>791422879</td>\n",
       "      <td>2012-08-30 11:44:29</td>\n",
       "      <td>2017-04-30 19:13:44</td>\n",
       "      <td>163</td>\n",
       "      <td>121</td>\n",
       "      <td>527</td>\n",
       "      <td>1067</td>\n",
       "      <td>0</td>\n",
       "      <td>0</td>\n",
       "      <td>1704.311979</td>\n",
       "      <td>0.095640</td>\n",
       "    </tr>\n",
       "  </tbody>\n",
       "</table>\n",
       "</div>"
      ],
      "text/plain": [
       "              user_id           created_at     tweet_created_at  \\\n",
       "0  819360266538389504  2017-01-12 01:48:05  2017-04-30 19:13:44   \n",
       "1           278160713  2011-04-06 18:43:00  2017-04-30 19:13:44   \n",
       "2           578844570  2012-05-13 08:09:12  2017-04-30 19:13:44   \n",
       "3           334868465  2011-07-13 19:58:52  2017-04-30 19:13:44   \n",
       "4           791422879  2012-08-30 11:44:29  2017-04-30 19:13:44   \n",
       "\n",
       "   statuses_count  followers_count  friends_count  favourites_count  \\\n",
       "0            3688               27             25             16666   \n",
       "1            1823              112            553               680   \n",
       "2            1810              155             89               922   \n",
       "3           56034              968            309             53342   \n",
       "4             163              121            527              1067   \n",
       "\n",
       "   listed_count  retweet_count     num_days  tweet_freq  \n",
       "0             0              0   108.726146   33.920084  \n",
       "1             0              0  2216.021343    0.822646  \n",
       "2             5              0  1813.461481    0.998091  \n",
       "3            44              0  2117.968657   26.456482  \n",
       "4             0              0  1704.311979    0.095640  "
      ]
     },
     "execution_count": 8,
     "metadata": {},
     "output_type": "execute_result"
    }
   ],
   "source": [
    "#### Statistical Analysis\n",
    "\n",
    "\n",
    "## TODO: Scale the data using the natural logarithm\n",
    "import pandas as pd\n",
    "df = pd.read_csv(\"GroupedDataSet.csv\")\n",
    "print(len(df))\n",
    "df.head(5)"
   ]
  },
  {
   "cell_type": "code",
   "execution_count": 9,
   "metadata": {
    "collapsed": false
   },
   "outputs": [
    {
     "data": {
      "image/png": "[encoded data removed]",
      "text/plain": [
       "<matplotlib.figure.Figure at 0xcc01780>"
      ]
     },
     "metadata": {},
     "output_type": "display_data"
    }
   ],
   "source": [
    "#Plotting\n",
    "import matplotlib.pyplot as plt\n",
    "%matplotlib inline\n",
    "df.plot.scatter( x ='listed_count',y ='followers_count');"
   ]
  },
  {
   "cell_type": "code",
   "execution_count": 10,
   "metadata": {
    "collapsed": false
   },
   "outputs": [
    {
     "data": {
      "image/png": "[encoded data removed]",
      "text/plain": [
       "<matplotlib.figure.Figure at 0xcc0cfd0>"
      ]
     },
     "metadata": {},
     "output_type": "display_data"
    }
   ],
   "source": [
    "#Plotting\n",
    "import matplotlib.pyplot as plt\n",
    "%matplotlib inline\n",
    "df.plot.scatter( x = 'statuses_count',y ='favourites_count');"
   ]
  },
  {
   "cell_type": "code",
   "execution_count": 11,
   "metadata": {
    "collapsed": false
   },
   "outputs": [
    {
     "data": {
      "text/plain": [
       "(0.81881809572015862, 0.0)"
      ]
     },
     "execution_count": 11,
     "metadata": {},
     "output_type": "execute_result"
    }
   ],
   "source": [
    "#Hypothesis testing for correlation\n",
    "#listed_count and followers_count\n",
    "df_clean = df.dropna()\n",
    "\n",
    "import scipy\n",
    "from scipy.stats import pearsonr\n",
    "\n",
    "scipy.stats.pearsonr(df_clean['listed_count'], df_clean['followers_count'])"
   ]
  },
  {
   "cell_type": "code",
   "execution_count": 12,
   "metadata": {
    "collapsed": false
   },
   "outputs": [
    {
     "data": {
      "text/plain": [
       "(0.26750968395496211, 0.0)"
      ]
     },
     "execution_count": 12,
     "metadata": {},
     "output_type": "execute_result"
    }
   ],
   "source": [
    "#statuses_count and favourites_count\n",
    "df_clean = df.dropna()\n",
    "\n",
    "import scipy\n",
    "from scipy.stats import pearsonr\n",
    "\n",
    "scipy.stats.pearsonr(df_clean['statuses_count'], df_clean['favourites_count'])"
   ]
  },
  {
   "cell_type": "code",
   "execution_count": 13,
   "metadata": {
    "collapsed": false
   },
   "outputs": [
    {
     "data": {
      "text/plain": [
       "(0.14432276539808489, 7.6283945979001881e-193)"
      ]
     },
     "execution_count": 13,
     "metadata": {},
     "output_type": "execute_result"
    }
   ],
   "source": [
    "#statuses_count and followers count\n",
    "\n",
    "import scipy\n",
    "from scipy.stats import pearsonr\n",
    "\n",
    "scipy.stats.pearsonr(df_clean['statuses_count'], df_clean['followers_count'])"
   ]
  },
  {
   "cell_type": "code",
   "execution_count": 14,
   "metadata": {
    "collapsed": false
   },
   "outputs": [
    {
     "data": {
      "text/plain": [
       "(0.2067994357719212, 0.0)"
      ]
     },
     "execution_count": 14,
     "metadata": {},
     "output_type": "execute_result"
    }
   ],
   "source": [
    "#friends and followers count\n",
    "\n",
    "import scipy\n",
    "from scipy.stats import pearsonr\n",
    "\n",
    "scipy.stats.pearsonr(df_clean['friends_count'], df_clean['followers_count'])"
   ]
  },
  {
   "cell_type": "code",
   "execution_count": 15,
   "metadata": {
    "collapsed": false
   },
   "outputs": [
    {
     "data": {
      "text/html": [
       "<div>\n",
       "<table border=\"1\" class=\"dataframe\">\n",
       "  <thead>\n",
       "    <tr style=\"text-align: right;\">\n",
       "      <th></th>\n",
       "      <th>user_id</th>\n",
       "      <th>statuses_count</th>\n",
       "      <th>followers_count</th>\n",
       "      <th>friends_count</th>\n",
       "      <th>favourites_count</th>\n",
       "      <th>listed_count</th>\n",
       "      <th>retweet_count</th>\n",
       "      <th>num_days</th>\n",
       "      <th>tweet_freq</th>\n",
       "    </tr>\n",
       "  </thead>\n",
       "  <tbody>\n",
       "    <tr>\n",
       "      <th>user_id</th>\n",
       "      <td>1.000000</td>\n",
       "      <td>-0.144500</td>\n",
       "      <td>-0.023204</td>\n",
       "      <td>-0.035664</td>\n",
       "      <td>-0.125135</td>\n",
       "      <td>-0.037306</td>\n",
       "      <td>NaN</td>\n",
       "      <td>-0.667946</td>\n",
       "      <td>0.101820</td>\n",
       "    </tr>\n",
       "    <tr>\n",
       "      <th>statuses_count</th>\n",
       "      <td>-0.144500</td>\n",
       "      <td>1.000000</td>\n",
       "      <td>0.144323</td>\n",
       "      <td>0.151687</td>\n",
       "      <td>0.267510</td>\n",
       "      <td>0.189885</td>\n",
       "      <td>NaN</td>\n",
       "      <td>0.183337</td>\n",
       "      <td>0.191573</td>\n",
       "    </tr>\n",
       "    <tr>\n",
       "      <th>followers_count</th>\n",
       "      <td>-0.023204</td>\n",
       "      <td>0.144323</td>\n",
       "      <td>1.000000</td>\n",
       "      <td>0.206799</td>\n",
       "      <td>0.006015</td>\n",
       "      <td>0.818818</td>\n",
       "      <td>NaN</td>\n",
       "      <td>0.048707</td>\n",
       "      <td>0.015286</td>\n",
       "    </tr>\n",
       "    <tr>\n",
       "      <th>friends_count</th>\n",
       "      <td>-0.035664</td>\n",
       "      <td>0.151687</td>\n",
       "      <td>0.206799</td>\n",
       "      <td>1.000000</td>\n",
       "      <td>0.052319</td>\n",
       "      <td>0.169205</td>\n",
       "      <td>NaN</td>\n",
       "      <td>0.050064</td>\n",
       "      <td>0.022049</td>\n",
       "    </tr>\n",
       "    <tr>\n",
       "      <th>favourites_count</th>\n",
       "      <td>-0.125135</td>\n",
       "      <td>0.267510</td>\n",
       "      <td>0.006015</td>\n",
       "      <td>0.052319</td>\n",
       "      <td>1.000000</td>\n",
       "      <td>0.074379</td>\n",
       "      <td>NaN</td>\n",
       "      <td>0.085000</td>\n",
       "      <td>0.045550</td>\n",
       "    </tr>\n",
       "    <tr>\n",
       "      <th>listed_count</th>\n",
       "      <td>-0.037306</td>\n",
       "      <td>0.189885</td>\n",
       "      <td>0.818818</td>\n",
       "      <td>0.169205</td>\n",
       "      <td>0.074379</td>\n",
       "      <td>1.000000</td>\n",
       "      <td>NaN</td>\n",
       "      <td>0.079276</td>\n",
       "      <td>0.031340</td>\n",
       "    </tr>\n",
       "    <tr>\n",
       "      <th>retweet_count</th>\n",
       "      <td>NaN</td>\n",
       "      <td>NaN</td>\n",
       "      <td>NaN</td>\n",
       "      <td>NaN</td>\n",
       "      <td>NaN</td>\n",
       "      <td>NaN</td>\n",
       "      <td>NaN</td>\n",
       "      <td>NaN</td>\n",
       "      <td>NaN</td>\n",
       "    </tr>\n",
       "    <tr>\n",
       "      <th>num_days</th>\n",
       "      <td>-0.667946</td>\n",
       "      <td>0.183337</td>\n",
       "      <td>0.048707</td>\n",
       "      <td>0.050064</td>\n",
       "      <td>0.085000</td>\n",
       "      <td>0.079276</td>\n",
       "      <td>NaN</td>\n",
       "      <td>1.000000</td>\n",
       "      <td>-0.082643</td>\n",
       "    </tr>\n",
       "    <tr>\n",
       "      <th>tweet_freq</th>\n",
       "      <td>0.101820</td>\n",
       "      <td>0.191573</td>\n",
       "      <td>0.015286</td>\n",
       "      <td>0.022049</td>\n",
       "      <td>0.045550</td>\n",
       "      <td>0.031340</td>\n",
       "      <td>NaN</td>\n",
       "      <td>-0.082643</td>\n",
       "      <td>1.000000</td>\n",
       "    </tr>\n",
       "  </tbody>\n",
       "</table>\n",
       "</div>"
      ],
      "text/plain": [
       "                   user_id  statuses_count  followers_count  friends_count  \\\n",
       "user_id           1.000000       -0.144500        -0.023204      -0.035664   \n",
       "statuses_count   -0.144500        1.000000         0.144323       0.151687   \n",
       "followers_count  -0.023204        0.144323         1.000000       0.206799   \n",
       "friends_count    -0.035664        0.151687         0.206799       1.000000   \n",
       "favourites_count -0.125135        0.267510         0.006015       0.052319   \n",
       "listed_count     -0.037306        0.189885         0.818818       0.169205   \n",
       "retweet_count          NaN             NaN              NaN            NaN   \n",
       "num_days         -0.667946        0.183337         0.048707       0.050064   \n",
       "tweet_freq        0.101820        0.191573         0.015286       0.022049   \n",
       "\n",
       "                  favourites_count  listed_count  retweet_count  num_days  \\\n",
       "user_id                  -0.125135     -0.037306            NaN -0.667946   \n",
       "statuses_count            0.267510      0.189885            NaN  0.183337   \n",
       "followers_count           0.006015      0.818818            NaN  0.048707   \n",
       "friends_count             0.052319      0.169205            NaN  0.050064   \n",
       "favourites_count          1.000000      0.074379            NaN  0.085000   \n",
       "listed_count              0.074379      1.000000            NaN  0.079276   \n",
       "retweet_count                  NaN           NaN            NaN       NaN   \n",
       "num_days                  0.085000      0.079276            NaN  1.000000   \n",
       "tweet_freq                0.045550      0.031340            NaN -0.082643   \n",
       "\n",
       "                  tweet_freq  \n",
       "user_id             0.101820  \n",
       "statuses_count      0.191573  \n",
       "followers_count     0.015286  \n",
       "friends_count       0.022049  \n",
       "favourites_count    0.045550  \n",
       "listed_count        0.031340  \n",
       "retweet_count            NaN  \n",
       "num_days           -0.082643  \n",
       "tweet_freq          1.000000  "
      ]
     },
     "execution_count": 15,
     "metadata": {},
     "output_type": "execute_result"
    }
   ],
   "source": [
    "#Correlation matrix\n",
    "df.corr(method='pearson', min_periods=1)\n",
    "#method='pearson', min_periods=1"
   ]
  },
  {
   "cell_type": "code",
   "execution_count": null,
   "metadata": {
    "collapsed": true
   },
   "outputs": [],
   "source": []
  }
 ],
 "metadata": {
  "anaconda-cloud": {},
  "kernelspec": {
   "display_name": "Python [conda root]",
   "language": "python",
   "name": "conda-root-py"
  },
  "language_info": {
   "codemirror_mode": {
    "name": "ipython",
    "version": 2
   },
   "file_extension": ".py",
   "mimetype": "text/x-python",
   "name": "python",
   "nbconvert_exporter": "python",
   "pygments_lexer": "ipython2",
   "version": "2.7.12"
  }
 },
 "nbformat": 4,
 "nbformat_minor": 1
}
